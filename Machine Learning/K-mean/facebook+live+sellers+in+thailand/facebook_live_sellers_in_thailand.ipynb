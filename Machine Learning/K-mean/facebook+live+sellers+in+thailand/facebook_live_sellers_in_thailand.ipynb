{
 "cells": [
  {
   "cell_type": "markdown",
   "metadata": {},
   "source": [
    "#1: Import Libraries"
   ]
  },
  {
   "cell_type": "code",
   "execution_count": 54,
   "metadata": {},
   "outputs": [],
   "source": [
    "import numpy as np\n",
    "import pandas as pd\n",
    "from sklearn.cluster import KMeans\n",
    "from sklearn.metrics import adjusted_rand_score\n",
    "\n",
    "np.random.seed(42)\n"
   ]
  },
  {
   "cell_type": "markdown",
   "metadata": {},
   "source": [
    "#2: Read, explore and process data"
   ]
  },
  {
   "cell_type": "code",
   "execution_count": null,
   "metadata": {},
   "outputs": [],
   "source": [
    "data = pd.read_csv(\"Live.csv\")\n",
    "X = data[data['status_type'] == 'video']\n",
    "df = X.drop(['status_id', 'status_type', 'status_published', 'Column1', 'Column2', 'Column3', 'Column4'], axis=1)"
   ]
  },
  {
   "cell_type": "markdown",
   "metadata": {},
   "source": [
    "#3: Explore data"
   ]
  },
  {
   "cell_type": "code",
   "execution_count": 56,
   "metadata": {},
   "outputs": [
    {
     "name": "stdout",
     "output_type": "stream",
     "text": [
      "<class 'pandas.core.frame.DataFrame'>\n",
      "Index: 2334 entries, 0 to 7034\n",
      "Data columns (total 9 columns):\n",
      " #   Column         Non-Null Count  Dtype\n",
      "---  ------         --------------  -----\n",
      " 0   num_reactions  2334 non-null   int64\n",
      " 1   num_comments   2334 non-null   int64\n",
      " 2   num_shares     2334 non-null   int64\n",
      " 3   num_likes      2334 non-null   int64\n",
      " 4   num_loves      2334 non-null   int64\n",
      " 5   num_wows       2334 non-null   int64\n",
      " 6   num_hahas      2334 non-null   int64\n",
      " 7   num_sads       2334 non-null   int64\n",
      " 8   num_angrys     2334 non-null   int64\n",
      "dtypes: int64(9)\n",
      "memory usage: 182.3 KB\n"
     ]
    }
   ],
   "source": [
    "df.info()"
   ]
  },
  {
   "cell_type": "code",
   "execution_count": 57,
   "metadata": {},
   "outputs": [
    {
     "data": {
      "text/plain": [
       "num_reactions    0\n",
       "num_comments     0\n",
       "num_shares       0\n",
       "num_likes        0\n",
       "num_loves        0\n",
       "num_wows         0\n",
       "num_hahas        0\n",
       "num_sads         0\n",
       "num_angrys       0\n",
       "dtype: int64"
      ]
     },
     "execution_count": 57,
     "metadata": {},
     "output_type": "execute_result"
    }
   ],
   "source": [
    "df.isnull().sum()"
   ]
  },
  {
   "cell_type": "code",
   "execution_count": 58,
   "metadata": {},
   "outputs": [],
   "source": [
    "from sklearn.preprocessing import StandardScaler\n",
    "\n",
    "scaler = StandardScaler()\n",
    "df_scaled = scaler.fit_transform(df)\n"
   ]
  },
  {
   "cell_type": "markdown",
   "metadata": {},
   "source": [
    "#4: Code K-Means"
   ]
  },
  {
   "cell_type": "code",
   "execution_count": null,
   "metadata": {},
   "outputs": [],
   "source": [
    "def Random_choices(X, K):\n",
    "    row_indices = np.random.choice(X.shape[0], K, replace=False) \n",
    "    return X[row_indices]  \n",
    "\n",
    "\n",
    "\n",
    "\n",
    "def Distance(X, K, centroids):\n",
    "    distances = np.zeros((X.shape[0], K))\n",
    "    for i in range(0, K):\n",
    "        distances[:, i] = np.sum((X - centroids[i]) ** 2, axis=1) \n",
    "    return distances \n",
    "\n",
    "\n",
    "def fit(X, K):\n",
    "    centroid = Random_choices(X, K)\n",
    "    for _ in range(0, 30):\n",
    "        distances = Distance(X, K, centroid)\n",
    "        labels = np.argmin(distances, axis=1) \n",
    "        m = X.shape[0]\n",
    "        new_centroids = np.array([X[labels == k, :].mean(axis=0) for k in range(K)])\n",
    "        if np.allclose(centroid, new_centroids):\n",
    "            break\n",
    "        centroid = new_centroids\n",
    "    return labels\n",
    "\n",
    "    \n",
    "    "
   ]
  },
  {
   "cell_type": "markdown",
   "metadata": {},
   "source": [
    "#5: Classification"
   ]
  },
  {
   "cell_type": "code",
   "execution_count": 60,
   "metadata": {},
   "outputs": [
    {
     "name": "stderr",
     "output_type": "stream",
     "text": [
      "C:\\Users\\Lenovo\\AppData\\Local\\Temp\\ipykernel_12876\\4170593404.py:22: RuntimeWarning: Mean of empty slice.\n",
      "  new_centroids = np.array([X[labels == k, :].mean(axis=0) for k in range(K)])\n",
      "c:\\Users\\Lenovo\\AppData\\Local\\Programs\\Python\\Python313\\Lib\\site-packages\\numpy\\_core\\_methods.py:137: RuntimeWarning: invalid value encountered in divide\n",
      "  ret = um.true_divide(\n",
      "C:\\Users\\Lenovo\\AppData\\Local\\Temp\\ipykernel_12876\\4170593404.py:22: RuntimeWarning: Mean of empty slice.\n",
      "  new_centroids = np.array([X[labels == k, :].mean(axis=0) for k in range(K)])\n",
      "c:\\Users\\Lenovo\\AppData\\Local\\Programs\\Python\\Python313\\Lib\\site-packages\\numpy\\_core\\_methods.py:137: RuntimeWarning: invalid value encountered in divide\n",
      "  ret = um.true_divide(\n"
     ]
    },
    {
     "name": "stdout",
     "output_type": "stream",
     "text": [
      "Final K: 12\n",
      "Custom K-Means Labels: [9 7 2 ... 4 7 7]\n",
      "Sklearn K-Means Labels: [11 11 11 ... 10  1  1]\n",
      "Adjusted Rand Index (ARI): 0.7358005602254624\n"
     ]
    },
    {
     "name": "stderr",
     "output_type": "stream",
     "text": [
      "C:\\Users\\Lenovo\\AppData\\Local\\Temp\\ipykernel_12876\\4170593404.py:22: RuntimeWarning: Mean of empty slice.\n",
      "  new_centroids = np.array([X[labels == k, :].mean(axis=0) for k in range(K)])\n",
      "c:\\Users\\Lenovo\\AppData\\Local\\Programs\\Python\\Python313\\Lib\\site-packages\\numpy\\_core\\_methods.py:137: RuntimeWarning: invalid value encountered in divide\n",
      "  ret = um.true_divide(\n"
     ]
    }
   ],
   "source": [
    "max_score = 0\n",
    "final_K = 3\n",
    "for K in range(3, 20):\n",
    "    cur_label = fit(df_scaled, K)    \n",
    "    kmeans = KMeans(n_clusters=K, init='k-means++', n_init=30, random_state=42)\n",
    "    cur_label_tool = kmeans.fit_predict(df)\n",
    "    ari_score = adjusted_rand_score(cur_label, cur_label_tool)\n",
    "    if ari_score > max_score:\n",
    "        max_score = ari_score\n",
    "        final_K = K\n",
    "\n",
    "\n",
    "final_label = fit(df_scaled, final_K)    \n",
    "kmeans = KMeans(n_clusters=final_K, init='k-means++', n_init=30, random_state=42)\n",
    "final_label_tool = kmeans.fit_predict(df)\n",
    "\n",
    "print(\"Final K:\", final_K)\n",
    "print(\"Custom K-Means Labels:\", final_label)\n",
    "print(\"Sklearn K-Means Labels:\", final_label_tool)\n",
    "\n",
    "ari_score = adjusted_rand_score(final_label, final_label_tool)\n",
    "print(\"Adjusted Rand Index (ARI):\", ari_score)  "
   ]
  }
 ],
 "metadata": {
  "kernelspec": {
   "display_name": "Python 3",
   "language": "python",
   "name": "python3"
  },
  "language_info": {
   "codemirror_mode": {
    "name": "ipython",
    "version": 3
   },
   "file_extension": ".py",
   "mimetype": "text/x-python",
   "name": "python",
   "nbconvert_exporter": "python",
   "pygments_lexer": "ipython3",
   "version": "3.13.1"
  }
 },
 "nbformat": 4,
 "nbformat_minor": 2
}
