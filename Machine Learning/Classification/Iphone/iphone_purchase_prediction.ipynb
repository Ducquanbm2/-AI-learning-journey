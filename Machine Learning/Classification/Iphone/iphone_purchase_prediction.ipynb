{
 "cells": [
  {
   "cell_type": "markdown",
   "metadata": {},
   "source": [
    "                                                        Iphone Purchase Prediction"
   ]
  },
  {
   "cell_type": "code",
   "execution_count": 44,
   "metadata": {},
   "outputs": [
    {
     "data": {
      "text/html": [
       "<div>\n",
       "<style scoped>\n",
       "    .dataframe tbody tr th:only-of-type {\n",
       "        vertical-align: middle;\n",
       "    }\n",
       "\n",
       "    .dataframe tbody tr th {\n",
       "        vertical-align: top;\n",
       "    }\n",
       "\n",
       "    .dataframe thead th {\n",
       "        text-align: right;\n",
       "    }\n",
       "</style>\n",
       "<table border=\"1\" class=\"dataframe\">\n",
       "  <thead>\n",
       "    <tr style=\"text-align: right;\">\n",
       "      <th></th>\n",
       "      <th>Gender</th>\n",
       "      <th>Age</th>\n",
       "      <th>Salary</th>\n",
       "      <th>Purchase Iphone</th>\n",
       "      <th>Mapping Gender</th>\n",
       "    </tr>\n",
       "  </thead>\n",
       "  <tbody>\n",
       "    <tr>\n",
       "      <th>0</th>\n",
       "      <td>Male</td>\n",
       "      <td>19</td>\n",
       "      <td>19000</td>\n",
       "      <td>0</td>\n",
       "      <td>1.0</td>\n",
       "    </tr>\n",
       "    <tr>\n",
       "      <th>1</th>\n",
       "      <td>Male</td>\n",
       "      <td>35</td>\n",
       "      <td>20000</td>\n",
       "      <td>0</td>\n",
       "      <td>1.0</td>\n",
       "    </tr>\n",
       "    <tr>\n",
       "      <th>2</th>\n",
       "      <td>Female</td>\n",
       "      <td>26</td>\n",
       "      <td>43000</td>\n",
       "      <td>0</td>\n",
       "      <td>0.0</td>\n",
       "    </tr>\n",
       "    <tr>\n",
       "      <th>3</th>\n",
       "      <td>Female</td>\n",
       "      <td>27</td>\n",
       "      <td>57000</td>\n",
       "      <td>0</td>\n",
       "      <td>0.0</td>\n",
       "    </tr>\n",
       "    <tr>\n",
       "      <th>4</th>\n",
       "      <td>Male</td>\n",
       "      <td>19</td>\n",
       "      <td>76000</td>\n",
       "      <td>0</td>\n",
       "      <td>1.0</td>\n",
       "    </tr>\n",
       "  </tbody>\n",
       "</table>\n",
       "</div>"
      ],
      "text/plain": [
       "   Gender  Age  Salary  Purchase Iphone  Mapping Gender\n",
       "0    Male   19   19000                0             1.0\n",
       "1    Male   35   20000                0             1.0\n",
       "2  Female   26   43000                0             0.0\n",
       "3  Female   27   57000                0             0.0\n",
       "4    Male   19   76000                0             1.0"
      ]
     },
     "execution_count": 44,
     "metadata": {},
     "output_type": "execute_result"
    }
   ],
   "source": [
    "import numpy as np\n",
    "import pandas as pd\n",
    "from sklearn.model_selection import train_test_split\n",
    "import matplotlib.pyplot as plt\n",
    "import seaborn as sns\n",
    "from sklearn.metrics import accuracy_score, confusion_matrix, classification_report,precision_score\n",
    "data = pd.read_csv('D:/python/Machine Learning/Classification/Iphone/iphone_purchase_records.csv')\n",
    "data['Mapping Gender'] = np.zeros((data.shape[0], 1))\n",
    "for i in range(0, data.shape[0]):\n",
    "    if data.loc[i, 'Gender'] == \"Male\":\n",
    "        data.loc[i, 'Mapping Gender'] = 1\n",
    "X = data[['Age' ,'Salary', 'Mapping Gender']]\n",
    "Y = data['Purchase Iphone']\n",
    "data.head()"
   ]
  },
  {
   "cell_type": "markdown",
   "metadata": {},
   "source": [
    "Data Visualisaion"
   ]
  },
  {
   "cell_type": "code",
   "execution_count": 45,
   "metadata": {},
   "outputs": [
    {
     "name": "stdout",
     "output_type": "stream",
     "text": [
      "<class 'pandas.core.frame.DataFrame'>\n",
      "RangeIndex: 400 entries, 0 to 399\n",
      "Data columns (total 3 columns):\n",
      " #   Column          Non-Null Count  Dtype  \n",
      "---  ------          --------------  -----  \n",
      " 0   Age             400 non-null    int64  \n",
      " 1   Salary          400 non-null    int64  \n",
      " 2   Mapping Gender  400 non-null    float64\n",
      "dtypes: float64(1), int64(2)\n",
      "memory usage: 9.5 KB\n"
     ]
    }
   ],
   "source": [
    "X.info()"
   ]
  },
  {
   "cell_type": "code",
   "execution_count": 46,
   "metadata": {},
   "outputs": [
    {
     "data": {
      "text/html": [
       "<div>\n",
       "<style scoped>\n",
       "    .dataframe tbody tr th:only-of-type {\n",
       "        vertical-align: middle;\n",
       "    }\n",
       "\n",
       "    .dataframe tbody tr th {\n",
       "        vertical-align: top;\n",
       "    }\n",
       "\n",
       "    .dataframe thead th {\n",
       "        text-align: right;\n",
       "    }\n",
       "</style>\n",
       "<table border=\"1\" class=\"dataframe\">\n",
       "  <thead>\n",
       "    <tr style=\"text-align: right;\">\n",
       "      <th></th>\n",
       "      <th>Age</th>\n",
       "      <th>Salary</th>\n",
       "      <th>Mapping Gender</th>\n",
       "    </tr>\n",
       "  </thead>\n",
       "  <tbody>\n",
       "    <tr>\n",
       "      <th>count</th>\n",
       "      <td>400.000000</td>\n",
       "      <td>400.000000</td>\n",
       "      <td>400.000000</td>\n",
       "    </tr>\n",
       "    <tr>\n",
       "      <th>mean</th>\n",
       "      <td>37.655000</td>\n",
       "      <td>69742.500000</td>\n",
       "      <td>0.490000</td>\n",
       "    </tr>\n",
       "    <tr>\n",
       "      <th>std</th>\n",
       "      <td>10.482877</td>\n",
       "      <td>34096.960282</td>\n",
       "      <td>0.500526</td>\n",
       "    </tr>\n",
       "    <tr>\n",
       "      <th>min</th>\n",
       "      <td>18.000000</td>\n",
       "      <td>15000.000000</td>\n",
       "      <td>0.000000</td>\n",
       "    </tr>\n",
       "    <tr>\n",
       "      <th>25%</th>\n",
       "      <td>29.750000</td>\n",
       "      <td>43000.000000</td>\n",
       "      <td>0.000000</td>\n",
       "    </tr>\n",
       "    <tr>\n",
       "      <th>50%</th>\n",
       "      <td>37.000000</td>\n",
       "      <td>70000.000000</td>\n",
       "      <td>0.000000</td>\n",
       "    </tr>\n",
       "    <tr>\n",
       "      <th>75%</th>\n",
       "      <td>46.000000</td>\n",
       "      <td>88000.000000</td>\n",
       "      <td>1.000000</td>\n",
       "    </tr>\n",
       "    <tr>\n",
       "      <th>max</th>\n",
       "      <td>60.000000</td>\n",
       "      <td>150000.000000</td>\n",
       "      <td>1.000000</td>\n",
       "    </tr>\n",
       "  </tbody>\n",
       "</table>\n",
       "</div>"
      ],
      "text/plain": [
       "              Age         Salary  Mapping Gender\n",
       "count  400.000000     400.000000      400.000000\n",
       "mean    37.655000   69742.500000        0.490000\n",
       "std     10.482877   34096.960282        0.500526\n",
       "min     18.000000   15000.000000        0.000000\n",
       "25%     29.750000   43000.000000        0.000000\n",
       "50%     37.000000   70000.000000        0.000000\n",
       "75%     46.000000   88000.000000        1.000000\n",
       "max     60.000000  150000.000000        1.000000"
      ]
     },
     "execution_count": 46,
     "metadata": {},
     "output_type": "execute_result"
    }
   ],
   "source": [
    "X.describe()"
   ]
  },
  {
   "cell_type": "code",
   "execution_count": 47,
   "metadata": {},
   "outputs": [
    {
     "data": {
      "image/png": "[encoded data removed]",
      "text/plain": [
       "<Figure size 640x480 with 1 Axes>"
      ]
     },
     "metadata": {},
     "output_type": "display_data"
    }
   ],
   "source": [
    "sns.histplot(data=X, x=\"Age\", bins=43, kde=True, color=\"blue\")\n",
    "plt.title(\"Mật độ phân bố của Age\")\n",
    "plt.xlabel(\"Giá trị\")\n",
    "plt.ylabel(\"Mật độ\")\n",
    "plt.show()"
   ]
  },
  {
   "cell_type": "code",
   "execution_count": 48,
   "metadata": {},
   "outputs": [
    {
     "data": {
      "text/plain": [
       "<Axes: xlabel='Salary', ylabel='Count'>"
      ]
     },
     "execution_count": 48,
     "metadata": {},
     "output_type": "execute_result"
    },
    {
     "data": {
      "image/png": "[encoded data removed]",
      "text/plain": [
       "<Figure size 640x480 with 1 Axes>"
      ]
     },
     "metadata": {},
     "output_type": "display_data"
    }
   ],
   "source": [
    "sns.histplot(data=X, x=\"Salary\", bins=50, kde=True, color=\"blue\")\n"
   ]
  },
  {
   "cell_type": "code",
   "execution_count": 49,
   "metadata": {},
   "outputs": [
    {
     "data": {
      "image/png": "[encoded data removed]",
      "text/plain": [
       "<Figure size 640x480 with 1 Axes>"
      ]
     },
     "metadata": {},
     "output_type": "display_data"
    }
   ],
   "source": [
    "sns.countplot(x='Gender', hue='Purchase Iphone', data=data, palette='Set2')\n",
    "plt.savefig(\"gender countplot.png\")\n",
    "plt.show()"
   ]
  },
  {
   "cell_type": "markdown",
   "metadata": {},
   "source": [
    "Solution 1: Logistic Regression"
   ]
  },
  {
   "cell_type": "code",
   "execution_count": 50,
   "metadata": {},
   "outputs": [
    {
     "name": "stdout",
     "output_type": "stream",
     "text": [
      "The accuracy of Logistic Regression model is 81.43 %\n"
     ]
    }
   ],
   "source": [
    "from sklearn.linear_model import LogisticRegression\n",
    "lg_model = LogisticRegression()\n",
    "x_train, x_test, y_train, y_test = train_test_split(X, Y, test_size=0.7, random_state=True)\n",
    "lg_model_fit = lg_model.fit(x_train, y_train)\n",
    "pred = lg_model_fit.predict(x_test)\n",
    "print(\"The accuracy of Logistic Regression model is\", round((accuracy_score(y_test,pred)*100),2),\"%\")"
   ]
  },
  {
   "cell_type": "markdown",
   "metadata": {},
   "source": [
    "Logistic Regression Independent"
   ]
  },
  {
   "cell_type": "code",
   "execution_count": 51,
   "metadata": {},
   "outputs": [
    {
     "name": "stdout",
     "output_type": "stream",
     "text": [
      "The accuracy of Logistic Regression model is 81.43 %\n"
     ]
    }
   ],
   "source": [
    "def sigmoid(s):\n",
    "    s = np.clip(s, -500, 500)  # Giới hạn giá trị để tránh overflow\n",
    "    return 1 / (1 + np.exp(-s))\n",
    "\n",
    "\n",
    "\n",
    "def LossFunction(X, w, y_true, y_pred):\n",
    "    m = len(y_pred)\n",
    "    return -1 / m * np.sum(y_true * np.log(y_pred) + (1 - y_true) * np.log(1 - y_pred))\n",
    "\n",
    "\n",
    "def LogisticRegression_model(X, y):\n",
    "    alpha = 0.01\n",
    "    epochs = 100\n",
    "    bias = 0\n",
    "    n, m = X.shape\n",
    "    w = np.zeros((m, 1))\n",
    "    y = y.to_numpy().reshape(-1, 1)  # Đảm bảo y có dạng (n,1)\n",
    "    for i in range(0, epochs):\n",
    "        linear_model = np.dot(X, w) + bias\n",
    "        y_pred = sigmoid(linear_model)\n",
    "        w = w - alpha * (1 / n) * np.dot(X.T, (y_pred - y))\n",
    "        bias = bias - alpha * (1 / n) * np.sum(y_pred - y)\n",
    "    return w, bias\n",
    "\n",
    "\n",
    "def predict(X, w, bias):\n",
    "    linear_model = np.dot(X, w) + bias\n",
    "    y_pred = sigmoid(linear_model)\n",
    "    return (y_pred >= 0.5).astype(int)  # Chuyển thành mảng nhãn 0 hoặc 1\n",
    "\n",
    "\n",
    "log_model_weight, log_model_bias = LogisticRegression_model(x_train, y_train)\n",
    "y_pred = predict(x_test, log_model_weight, log_model_bias)\n",
    "print(\"The accuracy of Logistic Regression model is\", round((accuracy_score(y_test,pred)*100),2),\"%\")\n"
   ]
  },
  {
   "cell_type": "markdown",
   "metadata": {},
   "source": [
    "In this problem, we can use the Logistic Regression model to classify because the dataset doesn't have many features and the result is binary (1 or 0)."
   ]
  },
  {
   "cell_type": "markdown",
   "metadata": {},
   "source": [
    "K-nearest-neighbors"
   ]
  },
  {
   "cell_type": "code",
   "execution_count": 52,
   "metadata": {},
   "outputs": [],
   "source": [
    "X_k = data[['Age' ,'Salary']]\n",
    "Y_k = data['Purchase Iphone']"
   ]
  },
  {
   "cell_type": "code",
   "execution_count": 56,
   "metadata": {},
   "outputs": [
    {
     "name": "stdout",
     "output_type": "stream",
     "text": [
      "[77.5, 87.5, 87.5, 76.25, 72.5]\n",
      "80.25\n"
     ]
    }
   ],
   "source": [
    "from sklearn.neighbors import KNeighborsClassifier\n",
    "clf = KNeighborsClassifier(n_neighbors=15)\n",
    "random_states = [42, 1234, 2024, 5678, 9999]\n",
    "accuracies = []\n",
    "for i in random_states:\n",
    "    x_train_k, x_test_k, y_train_k, y_test_k = train_test_split(X_k, Y_k, train_size=0.8, random_state=i)\n",
    "    model_fit = clf.fit(x_train_k, y_train_k)\n",
    "    y_pred_k = model_fit.predict(x_test_k)\n",
    "    accuracies.append(round((accuracy_score(y_test_k,y_pred_k)*100),2))\n",
    "\n",
    "print(accuracies)\n",
    "print(np.mean(accuracies))"
   ]
  },
  {
   "cell_type": "markdown",
   "metadata": {},
   "source": []
  }
 ],
 "metadata": {
  "kernelspec": {
   "display_name": "Python 3",
   "language": "python",
   "name": "python3"
  },
  "language_info": {
   "codemirror_mode": {
    "name": "ipython",
    "version": 3
   },
   "file_extension": ".py",
   "mimetype": "text/x-python",
   "name": "python",
   "nbconvert_exporter": "python",
   "pygments_lexer": "ipython3",
   "version": "3.13.1"
  }
 },
 "nbformat": 4,
 "nbformat_minor": 2
}
