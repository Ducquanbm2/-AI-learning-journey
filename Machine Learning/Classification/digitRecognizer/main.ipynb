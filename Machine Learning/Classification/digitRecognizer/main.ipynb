{
 "cells": [
  {
   "cell_type": "code",
   "execution_count": 1,
   "id": "1c12afc4",
   "metadata": {},
   "outputs": [],
   "source": [
    "import numpy as np\n",
    "import pandas as pd\n",
    "import matplotlib.pyplot as plt\n",
    "\n",
    "data = pd.read_csv(\"train.csv\")"
   ]
  },
  {
   "cell_type": "code",
   "execution_count": 2,
   "id": "ce4adf55",
   "metadata": {},
   "outputs": [],
   "source": [
    "X = data.drop('label', axis=1).values.T        \n",
    "Y = data['label'].values.reshape(1, -1)        \n",
    "\n",
    "X = X / 255.0\n",
    "\n",
    "\n",
    "m = X.shape[1]\n",
    "split = int(0.8 * m)  \n",
    "\n",
    "X_train = X[:, :split]\n",
    "Y_train = Y[:, :split]\n",
    "X_test = X[:, split:]\n",
    "Y_test = Y[:, split:]\n"
   ]
  },
  {
   "cell_type": "code",
   "execution_count": 3,
   "id": "afe95734",
   "metadata": {},
   "outputs": [],
   "source": [
    "def one_hot(Y):\n",
    "    one_hot_Y = np.zeros((10, Y.size))\n",
    "    one_hot_Y[Y, np.arange(Y.size)] = 1\n",
    "    return one_hot_Y\n",
    "\n",
    "Y_train_oh = one_hot(Y_train.flatten())\n",
    "Y_test_oh = one_hot(Y_test.flatten())\n"
   ]
  },
  {
   "cell_type": "code",
   "execution_count": 4,
   "id": "7bbd44a8",
   "metadata": {},
   "outputs": [],
   "source": [
    "def init_params(input_size, hidden_size, output_size):\n",
    "    W1 = np.random.randn(hidden_size, input_size) * np.sqrt(2 / input_size)\n",
    "    b1 = np.zeros((hidden_size, 1))\n",
    "    W2 = np.random.randn(output_size, hidden_size) * np.sqrt(2 / hidden_size)\n",
    "    b2 = np.zeros((output_size, 1   ))\n",
    "    return W1, b1, W2, b2\n"
   ]
  },
  {
   "cell_type": "code",
   "execution_count": 5,
   "id": "a42644d4",
   "metadata": {},
   "outputs": [],
   "source": [
    "def relu(Z):\n",
    "    return np.maximum(0, Z)\n",
    "\n",
    "def softmax(Z):\n",
    "    expZ = np.exp(Z - np.max(Z, axis=0, keepdims=True))  \n",
    "    return expZ / expZ.sum(axis=0, keepdims=True)\n",
    "\n",
    "def forward_prop(W1, b1, W2, b2, X):\n",
    "    Z1 = W1 @ X + b1\n",
    "    A1 = relu(Z1)\n",
    "    Z2 = W2 @ A1 + b2\n",
    "    A2 = softmax(Z2)\n",
    "    return Z1, A1, Z2, A2\n"
   ]
  },
  {
   "cell_type": "code",
   "execution_count": 6,
   "id": "63f1b3ef",
   "metadata": {},
   "outputs": [],
   "source": [
    "def relu_derivative(Z):\n",
    "    return Z > 0\n",
    "\n",
    "def backward_prop(Z1, A1, A2, W2, X, Y):\n",
    "    m = X.shape[1]\n",
    "    dZ2 = A2 - Y\n",
    "    dW2 = (1/m) * dZ2 @ A1.T\n",
    "    db2 = (1/m) * np.sum(dZ2, axis=1, keepdims=True)\n",
    "    \n",
    "    dZ1 = (W2.T @ dZ2) * relu_derivative(Z1)\n",
    "    dW1 = (1/m) * dZ1 @ X.T\n",
    "    db1 = (1/m) * np.sum(dZ1, axis=1, keepdims=True)\n",
    "    \n",
    "    return dW1, db1, dW2, db2\n"
   ]
  },
  {
   "cell_type": "code",
   "execution_count": 7,
   "id": "b6cc00e5",
   "metadata": {},
   "outputs": [],
   "source": [
    "def update(W1, b1, W2, b2, dW1, db1, dW2, db2, alpha):\n",
    "    W1 -= alpha * dW1\n",
    "    b1 -= alpha * db1\n",
    "    W2 -= alpha * dW2\n",
    "    b2 -= alpha * db2\n",
    "    return W1, b1, W2, b2\n"
   ]
  },
  {
   "cell_type": "code",
   "execution_count": 8,
   "id": "4072b464",
   "metadata": {},
   "outputs": [],
   "source": [
    "def train(X, Y, hidden_size=128, alpha=0.1, iterations=1000):\n",
    "    input_size = X.shape[0]\n",
    "    output_size = 10\n",
    "    W1, b1, W2, b2 = init_params(input_size, hidden_size, output_size)\n",
    "\n",
    "    for i in range(iterations):\n",
    "        Z1, A1, Z2, A2 = forward_prop(W1, b1, W2, b2, X)\n",
    "        dW1, db1, dW2, db2 = backward_prop(Z1, A1, A2, W2, X, Y)\n",
    "        W1, b1, W2, b2 = update(W1, b1, W2, b2, dW1, db1, dW2, db2, alpha)\n",
    "\n",
    "        if i % 100 == 0:\n",
    "            acc = get_accuracy(get_predictions(A2), np.argmax(Y, axis=0))\n",
    "            print(f\"Iteration {i}: Accuracy = {acc:.4f}\")\n",
    "    return W1, b1, W2, b2\n"
   ]
  },
  {
   "cell_type": "code",
   "execution_count": 9,
   "id": "2eca0825",
   "metadata": {},
   "outputs": [],
   "source": [
    "def get_predictions(A2):\n",
    "    return np.argmax(A2, axis=0)\n",
    "\n",
    "def get_accuracy(predictions, Y):\n",
    "    return np.mean(predictions == Y.flatten())\n",
    "\n",
    "def evaluate_model(W1, b1, W2, b2, X, Y):\n",
    "    _, _, _, A2 = forward_prop(W1, b1, W2, b2, X)\n",
    "    preds = get_predictions(A2)\n",
    "    acc = get_accuracy(get_predictions(A2), Y)\n",
    "    print(\"Accuracy:\", acc)\n",
    "    return acc\n"
   ]
  },
  {
   "cell_type": "code",
   "execution_count": 10,
   "id": "8d5bc9e3",
   "metadata": {},
   "outputs": [
    {
     "name": "stdout",
     "output_type": "stream",
     "text": [
      "Iteration 0: Accuracy = 0.0662\n",
      "Iteration 100: Accuracy = 0.8834\n",
      "Iteration 200: Accuracy = 0.9038\n",
      "Iteration 300: Accuracy = 0.9130\n",
      "Iteration 400: Accuracy = 0.9202\n",
      "Iteration 500: Accuracy = 0.9258\n",
      "Iteration 600: Accuracy = 0.9308\n",
      "Iteration 700: Accuracy = 0.9353\n",
      "Iteration 800: Accuracy = 0.9384\n",
      "Iteration 900: Accuracy = 0.9416\n",
      "Train accuracy:\n",
      "Accuracy: 0.9451488095238095\n",
      "Test accuracy:\n",
      "Accuracy: 0.9420238095238095\n"
     ]
    },
    {
     "data": {
      "text/plain": [
       "np.float64(0.9420238095238095)"
      ]
     },
     "execution_count": 10,
     "metadata": {},
     "output_type": "execute_result"
    }
   ],
   "source": [
    "W1, b1, W2, b2 = train(X_train, Y_train_oh, hidden_size=128, alpha=0.1, iterations=1000)\n",
    "print(\"Train accuracy:\")\n",
    "evaluate_model(W1, b1, W2, b2, X_train, Y_train)\n",
    "print(\"Test accuracy:\")\n",
    "evaluate_model(W1, b1, W2, b2, X_test, Y_test)\n"
   ]
  }
 ],
 "metadata": {
  "kernelspec": {
   "display_name": "Python 3",
   "language": "python",
   "name": "python3"
  },
  "language_info": {
   "codemirror_mode": {
    "name": "ipython",
    "version": 3
   },
   "file_extension": ".py",
   "mimetype": "text/x-python",
   "name": "python",
   "nbconvert_exporter": "python",
   "pygments_lexer": "ipython3",
   "version": "3.13.1"
  }
 },
 "nbformat": 4,
 "nbformat_minor": 5
}
